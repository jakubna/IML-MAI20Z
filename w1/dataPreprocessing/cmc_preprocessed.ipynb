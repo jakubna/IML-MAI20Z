{
 "cells": [
  {
   "cell_type": "code",
   "execution_count": 131,
   "metadata": {},
   "outputs": [],
   "source": [
    "from scipy.io import arff\n",
    "import numpy as np\n",
    "import pandas as pd\n",
    "import matplotlib.pyplot as plt\n",
    "from sklearn.preprocessing import MinMaxScaler\n",
    "from sklearn.decomposition import PCA\n",
    "from sklearn.preprocessing import StandardScaler\n",
    "from sklearn.metrics import accuracy_score, roc_auc_score, confusion_matrix, classification_report\n",
    "from sklearn.model_selection import train_test_split\n",
    "from sklearn.cluster import DBSCAN \n",
    "from sklearn.preprocessing import LabelEncoder"
   ]
  },
  {
   "cell_type": "code",
   "execution_count": 132,
   "metadata": {
    "scrolled": true
   },
   "outputs": [],
   "source": [
    "f = 'C://Users//nadzi//Desktop//datasets//datasets//cmc.arff'\n",
    "data, meta = arff.loadarff(f)"
   ]
  },
  {
   "cell_type": "code",
   "execution_count": 134,
   "metadata": {},
   "outputs": [],
   "source": [
    "dataset = np.array(data.tolist(), dtype=object)\n",
    "column_names = meta.names()\n",
    "column_types = meta.types()\n",
    "column_types_dict = dict(zip(column_names[:-1], column_types[:-1]))\n",
    "df = pd.DataFrame(data=dataset, columns=column_names)"
   ]
  },
  {
   "cell_type": "code",
   "execution_count": 135,
   "metadata": {},
   "outputs": [],
   "source": [
    "if df.isnull().any().sum() > 0:\n",
    "    for x in meta[:-1]:\n",
    "        if column_types_dict[x] == 'nominal':\n",
    "            top_frequent_value = df[x].describe()['top']\n",
    "            df[x].fillna(top_frequent_value, inplace=True)\n",
    "        else:\n",
    "            median = df[x].median()\n",
    "            df[x].fillna(median, inplace=True)"
   ]
  },
  {
   "cell_type": "code",
   "execution_count": 136,
   "metadata": {},
   "outputs": [],
   "source": [
    "labelencoder = LabelEncoder()\n",
    "for k,v in column_types_dict.items():\n",
    "    if v == 'nominal':\n",
    "        labelencoder.fit(sorted(df[k].unique()))\n",
    "        df[k] = labelencoder.transform(df[k])"
   ]
  },
  {
   "cell_type": "code",
   "execution_count": 139,
   "metadata": {},
   "outputs": [],
   "source": [
    "X = df.iloc[:,:-1]\n",
    "Y = df.iloc[:, -1]"
   ]
  },
  {
   "cell_type": "code",
   "execution_count": 140,
   "metadata": {},
   "outputs": [],
   "source": [
    "# fit scaler on data\n",
    "norm = MinMaxScaler().fit(X)\n",
    "\n",
    "# transform data\n",
    "X = norm.transform(X)"
   ]
  },
  {
   "cell_type": "code",
   "execution_count": 141,
   "metadata": {},
   "outputs": [
    {
     "data": {
      "text/plain": [
       "array([[0.24242424, 0.33333333, 0.66666667, ..., 0.33333333, 0.66666667,\n",
       "        0.        ],\n",
       "       [0.87878788, 0.        , 0.66666667, ..., 0.66666667, 1.        ,\n",
       "        0.        ],\n",
       "       [0.81818182, 0.33333333, 0.66666667, ..., 0.66666667, 1.        ,\n",
       "        0.        ],\n",
       "       ...,\n",
       "       [0.6969697 , 0.66666667, 0.66666667, ..., 0.        , 1.        ,\n",
       "        0.        ],\n",
       "       [0.51515152, 0.66666667, 0.66666667, ..., 0.33333333, 0.33333333,\n",
       "        0.        ],\n",
       "       [0.03030303, 0.66666667, 0.66666667, ..., 0.33333333, 1.        ,\n",
       "        0.        ]])"
      ]
     },
     "execution_count": 141,
     "metadata": {},
     "output_type": "execute_result"
    }
   ],
   "source": [
    "X"
   ]
  },
  {
   "cell_type": "code",
   "execution_count": null,
   "metadata": {},
   "outputs": [],
   "source": []
  }
 ],
 "metadata": {
  "kernelspec": {
   "display_name": "Python 3",
   "language": "python",
   "name": "python3"
  },
  "language_info": {
   "codemirror_mode": {
    "name": "ipython",
    "version": 3
   },
   "file_extension": ".py",
   "mimetype": "text/x-python",
   "name": "python",
   "nbconvert_exporter": "python",
   "pygments_lexer": "ipython3",
   "version": "3.6.8"
  }
 },
 "nbformat": 4,
 "nbformat_minor": 4
}
